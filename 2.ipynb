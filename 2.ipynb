{
 "cells": [
  {
   "cell_type": "code",
   "execution_count": 1,
   "id": "cb635333-a13c-4c51-9503-aa5f71538b8d",
   "metadata": {},
   "outputs": [],
   "source": [
    "import numpy as np\n",
    "import matplotlib.pyplot as plt\n",
    "import seaborn as sns\n",
    "from tensorflow.keras.datasets import imdb\n",
    "from tensorflow.keras.preprocessing.sequence import pad_sequences\n",
    "from tensorflow.keras.models import Sequential\n",
    "from tensorflow.keras.layers import Dense,Flatten,Embedding,GlobalAveragePooling1D\n",
    "from sklearn.metrics import classification_report, confusion_matrix"
   ]
  },
  {
   "cell_type": "code",
   "execution_count": null,
   "id": "4bd14bfc-b77e-4c28-b525-e01416244a73",
   "metadata": {},
   "outputs": [],
   "source": [
    "vocab = 10000\n",
    "max_len = 200\n",
    "\n",
    "(x_train,y_train),(x_test,y_test)= imdb.load_data(num_words=vocab)\n",
    "\n",
    "x_train = pad_sequences(x_train,maxlen=max_len)\n",
    "x_test = pad_sequences(x_test,maxlen=max_len)"
   ]
  },
  {
   "cell_type": "code",
   "execution_count": 16,
   "id": "501725c7-4cc5-45c7-b13f-3953d3390e2c",
   "metadata": {},
   "outputs": [],
   "source": [
    "model = Sequential([\n",
    "    Embedding(input_dim=vocab, output_dim=32, input_length=max_len),\n",
    "    GlobalAveragePooling1D(),\n",
    "    Dense(64, activation='relu'),\n",
    "    Dense(32, activation='relu'),\n",
    "    Dense(16, activation='relu'),\n",
    "    Dense(1, activation='sigmoid'),\n",
    "])"
   ]
  },
  {
   "cell_type": "code",
   "execution_count": 17,
   "id": "3fbe8b07-a49a-4f18-8514-67727be09083",
   "metadata": {},
   "outputs": [
    {
     "name": "stdout",
     "output_type": "stream",
     "text": [
      "Model: \"sequential_2\"\n",
      "_________________________________________________________________\n",
      " Layer (type)                Output Shape              Param #   \n",
      "=================================================================\n",
      " embedding_2 (Embedding)     (None, 200, 32)           320000    \n",
      "                                                                 \n",
      " global_average_pooling1d_2  (None, 32)                0         \n",
      "  (GlobalAveragePooling1D)                                       \n",
      "                                                                 \n",
      " dense_8 (Dense)             (None, 64)                2112      \n",
      "                                                                 \n",
      " dense_9 (Dense)             (None, 32)                2080      \n",
      "                                                                 \n",
      " dense_10 (Dense)            (None, 16)                528       \n",
      "                                                                 \n",
      " dense_11 (Dense)            (None, 1)                 17        \n",
      "                                                                 \n",
      "=================================================================\n",
      "Total params: 324737 (1.24 MB)\n",
      "Trainable params: 324737 (1.24 MB)\n",
      "Non-trainable params: 0 (0.00 Byte)\n",
      "_________________________________________________________________\n"
     ]
    }
   ],
   "source": [
    "model.compile(optimizer='adam',loss='binary_crossentropy',metrics='accuracy')\n",
    "model.summary()"
   ]
  },
  {
   "cell_type": "code",
   "execution_count": 23,
   "id": "e8e09e4f-c25a-412b-807e-3af502a767ba",
   "metadata": {},
   "outputs": [
    {
     "name": "stdout",
     "output_type": "stream",
     "text": [
      "Epoch 1/10\n",
      "40/40 [==============================] - 0s 7ms/step - loss: 0.0740 - accuracy: 0.9804 - val_loss: 0.4272 - val_accuracy: 0.8712\n",
      "Epoch 2/10\n",
      "40/40 [==============================] - 0s 6ms/step - loss: 0.0614 - accuracy: 0.9863 - val_loss: 0.4334 - val_accuracy: 0.8702\n",
      "Epoch 3/10\n",
      "40/40 [==============================] - 0s 6ms/step - loss: 0.0540 - accuracy: 0.9886 - val_loss: 0.4736 - val_accuracy: 0.8676\n",
      "Epoch 4/10\n",
      "40/40 [==============================] - 0s 6ms/step - loss: 0.0475 - accuracy: 0.9901 - val_loss: 0.4857 - val_accuracy: 0.8686\n",
      "Epoch 5/10\n",
      "40/40 [==============================] - 0s 6ms/step - loss: 0.0413 - accuracy: 0.9921 - val_loss: 0.5395 - val_accuracy: 0.8672\n",
      "Epoch 6/10\n",
      "40/40 [==============================] - 0s 6ms/step - loss: 0.0345 - accuracy: 0.9944 - val_loss: 0.5837 - val_accuracy: 0.8654\n",
      "Epoch 7/10\n",
      "40/40 [==============================] - 0s 6ms/step - loss: 0.0328 - accuracy: 0.9949 - val_loss: 0.5959 - val_accuracy: 0.8674\n",
      "Epoch 8/10\n",
      "40/40 [==============================] - 0s 6ms/step - loss: 0.0282 - accuracy: 0.9955 - val_loss: 0.6069 - val_accuracy: 0.8672\n",
      "Epoch 9/10\n",
      "40/40 [==============================] - 0s 6ms/step - loss: 0.0255 - accuracy: 0.9963 - val_loss: 0.6469 - val_accuracy: 0.8662\n",
      "Epoch 10/10\n",
      "40/40 [==============================] - 0s 6ms/step - loss: 0.0221 - accuracy: 0.9970 - val_loss: 0.6610 - val_accuracy: 0.8634\n"
     ]
    }
   ],
   "source": [
    "history = model.fit(x_train, y_train, epochs=10, batch_size=512, validation_split=0.2)"
   ]
  },
  {
   "cell_type": "code",
   "execution_count": 24,
   "id": "224dd2a9-58af-4580-8b97-ccceaa18d5d7",
   "metadata": {},
   "outputs": [
    {
     "name": "stdout",
     "output_type": "stream",
     "text": [
      "782/782 [==============================] - 0s 440us/step - loss: 0.7498 - accuracy: 0.8433\n"
     ]
    },
    {
     "data": {
      "text/plain": [
       "0.843280017375946"
      ]
     },
     "execution_count": 24,
     "metadata": {},
     "output_type": "execute_result"
    }
   ],
   "source": [
    "loss, accuracy= model.evaluate(x_test,y_test)\n",
    "accuracy"
   ]
  },
  {
   "cell_type": "code",
   "execution_count": 25,
   "id": "8e03f648-9638-4a2c-8443-a4e945d53c0d",
   "metadata": {},
   "outputs": [
    {
     "name": "stdout",
     "output_type": "stream",
     "text": [
      "782/782 [==============================] - 0s 391us/step\n"
     ]
    }
   ],
   "source": [
    "y_pred_prob = model.predict(x_test).flatten()\n",
    "y_pred = (y_pred_prob >=0.5).astype(int)"
   ]
  },
  {
   "cell_type": "code",
   "execution_count": 27,
   "id": "dede4daa-237c-4880-b381-cd2683d42e49",
   "metadata": {},
   "outputs": [
    {
     "name": "stdout",
     "output_type": "stream",
     "text": [
      "              precision    recall  f1-score   support\n",
      "\n",
      "           0       0.83      0.86      0.85     12500\n",
      "           1       0.85      0.83      0.84     12500\n",
      "\n",
      "    accuracy                           0.84     25000\n",
      "   macro avg       0.84      0.84      0.84     25000\n",
      "weighted avg       0.84      0.84      0.84     25000\n",
      "\n"
     ]
    }
   ],
   "source": [
    "print(classification_report(y_test,y_pred))"
   ]
  },
  {
   "cell_type": "code",
   "execution_count": 39,
   "id": "e16d53e3-d68b-440d-963d-d32c71c12dd0",
   "metadata": {},
   "outputs": [
    {
     "data": {
      "image/png": "[encoded data removed]",
      "text/plain": [
       "<Figure size 640x480 with 2 Axes>"
      ]
     },
     "metadata": {},
     "output_type": "display_data"
    }
   ],
   "source": [
    "cm = confusion_matrix(y_test, y_pred)\n",
    "sns.heatmap(cm, annot=True, fmt='d')\n",
    "plt.xlabel(\"Predicted\")\n",
    "plt.ylabel(\"Actual\")\n",
    "plt.title(\"Confusion Matrix\")\n",
    "plt.show()"
   ]
  },
  {
   "cell_type": "code",
   "execution_count": null,
   "id": "de7e8cd4-6df4-4453-9032-aca34ae20941",
   "metadata": {},
   "outputs": [],
   "source": []
  }
 ],
 "metadata": {
  "kernelspec": {
   "display_name": "Python 3 (ipykernel)",
   "language": "python",
   "name": "python3"
  },
  "language_info": {
   "codemirror_mode": {
    "name": "ipython",
    "version": 3
   },
   "file_extension": ".py",
   "mimetype": "text/x-python",
   "name": "python",
   "nbconvert_exporter": "python",
   "pygments_lexer": "ipython3",
   "version": "3.10.8"
  },
  "widgets": {
   "application/vnd.jupyter.widget-state+json": {
    "state": {},
    "version_major": 2,
    "version_minor": 0
   }
  }
 },
 "nbformat": 4,
 "nbformat_minor": 5
}
